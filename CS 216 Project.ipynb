{
 "cells": [
  {
   "cell_type": "code",
   "execution_count": 11,
   "id": "5c7e6ffd",
   "metadata": {},
   "outputs": [],
   "source": [
    "# Run but do not modify this code\n",
    "import seaborn as sns\n",
    "if ('0.11' in sns.__version__) or ('0.12' in sns.__version__):\n",
    "    sns.set_theme()\n",
    "else:\n",
    "    sns.set()"
   ]
  },
  {
   "cell_type": "code",
   "execution_count": 12,
   "id": "90daaff8",
   "metadata": {},
   "outputs": [
    {
     "name": "stdout",
     "output_type": "stream",
     "text": [
      "(323, 18)\n"
     ]
    },
    {
     "data": {
      "text/html": [
       "<div>\n",
       "<style scoped>\n",
       "    .dataframe tbody tr th:only-of-type {\n",
       "        vertical-align: middle;\n",
       "    }\n",
       "\n",
       "    .dataframe tbody tr th {\n",
       "        vertical-align: top;\n",
       "    }\n",
       "\n",
       "    .dataframe thead th {\n",
       "        text-align: right;\n",
       "    }\n",
       "</style>\n",
       "<table border=\"1\" class=\"dataframe\">\n",
       "  <thead>\n",
       "    <tr style=\"text-align: right;\">\n",
       "      <th></th>\n",
       "      <th>DeID</th>\n",
       "      <th>Ethnicity</th>\n",
       "      <th>Biomarker</th>\n",
       "      <th>TumorType</th>\n",
       "      <th>ER</th>\n",
       "      <th>Her2</th>\n",
       "      <th>Grade</th>\n",
       "      <th>GradeT</th>\n",
       "      <th>GradeN</th>\n",
       "      <th>GradeM</th>\n",
       "      <th>Tsizemm</th>\n",
       "      <th>Age</th>\n",
       "      <th>TILs</th>\n",
       "      <th>mits</th>\n",
       "      <th>Age50</th>\n",
       "      <th>grade1</th>\n",
       "      <th>TILs20</th>\n",
       "      <th>Tsize60</th>\n",
       "    </tr>\n",
       "  </thead>\n",
       "  <tbody>\n",
       "    <tr>\n",
       "      <th>0</th>\n",
       "      <td>1</td>\n",
       "      <td>1</td>\n",
       "      <td>1</td>\n",
       "      <td>ductal</td>\n",
       "      <td>1</td>\n",
       "      <td>0</td>\n",
       "      <td>3</td>\n",
       "      <td>2</td>\n",
       "      <td>3</td>\n",
       "      <td>3</td>\n",
       "      <td>70.0</td>\n",
       "      <td>61</td>\n",
       "      <td>13</td>\n",
       "      <td>18</td>\n",
       "      <td>1</td>\n",
       "      <td>1</td>\n",
       "      <td>0</td>\n",
       "      <td>1</td>\n",
       "    </tr>\n",
       "    <tr>\n",
       "      <th>1</th>\n",
       "      <td>2</td>\n",
       "      <td>1</td>\n",
       "      <td>1</td>\n",
       "      <td>ductal</td>\n",
       "      <td>1</td>\n",
       "      <td>0</td>\n",
       "      <td>2</td>\n",
       "      <td>3</td>\n",
       "      <td>2</td>\n",
       "      <td>2</td>\n",
       "      <td>999.0</td>\n",
       "      <td>52</td>\n",
       "      <td>11</td>\n",
       "      <td>13</td>\n",
       "      <td>1</td>\n",
       "      <td>0</td>\n",
       "      <td>0</td>\n",
       "      <td>999</td>\n",
       "    </tr>\n",
       "    <tr>\n",
       "      <th>2</th>\n",
       "      <td>3</td>\n",
       "      <td>1</td>\n",
       "      <td>1</td>\n",
       "      <td>mucinous or mucinous fx\\t</td>\n",
       "      <td>1</td>\n",
       "      <td>0</td>\n",
       "      <td>1</td>\n",
       "      <td>2</td>\n",
       "      <td>2</td>\n",
       "      <td>1</td>\n",
       "      <td>999.0</td>\n",
       "      <td>65</td>\n",
       "      <td>15</td>\n",
       "      <td>2</td>\n",
       "      <td>1</td>\n",
       "      <td>0</td>\n",
       "      <td>0</td>\n",
       "      <td>999</td>\n",
       "    </tr>\n",
       "    <tr>\n",
       "      <th>3</th>\n",
       "      <td>4</td>\n",
       "      <td>1</td>\n",
       "      <td>1</td>\n",
       "      <td>micropap or micropap fx\\t</td>\n",
       "      <td>1</td>\n",
       "      <td>0</td>\n",
       "      <td>2</td>\n",
       "      <td>3</td>\n",
       "      <td>2</td>\n",
       "      <td>1</td>\n",
       "      <td>999.0</td>\n",
       "      <td>55</td>\n",
       "      <td>20</td>\n",
       "      <td>7</td>\n",
       "      <td>1</td>\n",
       "      <td>0</td>\n",
       "      <td>0</td>\n",
       "      <td>999</td>\n",
       "    </tr>\n",
       "    <tr>\n",
       "      <th>4</th>\n",
       "      <td>5</td>\n",
       "      <td>1</td>\n",
       "      <td>1</td>\n",
       "      <td>cribriform\\t</td>\n",
       "      <td>1</td>\n",
       "      <td>0</td>\n",
       "      <td>1</td>\n",
       "      <td>1</td>\n",
       "      <td>2</td>\n",
       "      <td>2</td>\n",
       "      <td>90.0</td>\n",
       "      <td>74</td>\n",
       "      <td>7</td>\n",
       "      <td>13</td>\n",
       "      <td>1</td>\n",
       "      <td>0</td>\n",
       "      <td>0</td>\n",
       "      <td>1</td>\n",
       "    </tr>\n",
       "  </tbody>\n",
       "</table>\n",
       "</div>"
      ],
      "text/plain": [
       "   DeID  Ethnicity  Biomarker                  TumorType  ER  Her2  Grade  \\\n",
       "0     1          1          1                     ductal   1     0      3   \n",
       "1     2          1          1                     ductal   1     0      2   \n",
       "2     3          1          1  mucinous or mucinous fx\\t   1     0      1   \n",
       "3     4          1          1  micropap or micropap fx\\t   1     0      2   \n",
       "4     5          1          1               cribriform\\t   1     0      1   \n",
       "\n",
       "   GradeT  GradeN  GradeM  Tsizemm  Age  TILs  mits  Age50  grade1  TILs20  \\\n",
       "0       2       3       3     70.0   61    13    18      1       1       0   \n",
       "1       3       2       2    999.0   52    11    13      1       0       0   \n",
       "2       2       2       1    999.0   65    15     2      1       0       0   \n",
       "3       3       2       1    999.0   55    20     7      1       0       0   \n",
       "4       1       2       2     90.0   74     7    13      1       0       0   \n",
       "\n",
       "   Tsize60  \n",
       "0        1  \n",
       "1      999  \n",
       "2      999  \n",
       "3      999  \n",
       "4        1  "
      ]
     },
     "execution_count": 12,
     "metadata": {},
     "output_type": "execute_result"
    }
   ],
   "source": [
    "import pandas as pd\n",
    "import numpy as np\n",
    "sns.set_theme()\n",
    "#tumordata = pd.read_csv(\"Data_Tanzanian-breast_cancer_TILS_Mremi_Hall (1).csv\")\n",
    "tumor_data = pd.read_csv(\"tumor_data.csv\")\n",
    "print(tumor_data.shape)\n",
    "tumor_data.head()"
   ]
  },
  {
   "cell_type": "code",
   "execution_count": 22,
   "id": "1d8eb98d",
   "metadata": {},
   "outputs": [
    {
     "data": {
      "image/png": "[encoded data removed]",
      "text/plain": [
       "<Figure size 640x480 with 1 Axes>"
      ]
     },
     "metadata": {},
     "output_type": "display_data"
    }
   ],
   "source": [
    "eth_bar = sns.countplot(tumor_data, x = \"Ethnicity\").set(title = \"Figure 1: More American Ethnicities than Tanzanians\",\n",
    "                                                         ylabel = \"Count\",\n",
    "                                                         xticklabels=[\"Tanzanian\", \"African-American\", \"White-American\"])"
   ]
  },
  {
   "cell_type": "code",
   "execution_count": 21,
   "id": "6342ec73",
   "metadata": {},
   "outputs": [
    {
     "name": "stdout",
     "output_type": "stream",
     "text": [
      "6\n"
     ]
    },
    {
     "name": "stderr",
     "output_type": "stream",
     "text": [
      "/var/folders/kq/sknlr9vx6kj927y41lgf1xvw0000gn/T/ipykernel_92851/1828274462.py:2: SettingWithCopyWarning: \n",
      "A value is trying to be set on a copy of a slice from a DataFrame\n",
      "\n",
      "See the caveats in the documentation: https://pandas.pydata.org/pandas-docs/stable/user_guide/indexing.html#returning-a-view-versus-a-copy\n",
      "  grades.replace(999, np.nan, inplace=True)\n"
     ]
    }
   ],
   "source": [
    "grades = tumor_data[[\"Grade\", \"GradeT\", \"GradeN\", \"GradeM\"]]\n",
    "grades.replace(999, np.nan, inplace=True)\n",
    "grades = grades.dropna()\n",
    "\n",
    "print(len(tumor_data) - len(grades))"
   ]
  }
 ],
 "metadata": {
  "kernelspec": {
   "display_name": "Python 3 (ipykernel)",
   "language": "python",
   "name": "python3"
  },
  "language_info": {
   "codemirror_mode": {
    "name": "ipython",
    "version": 3
   },
   "file_extension": ".py",
   "mimetype": "text/x-python",
   "name": "python",
   "nbconvert_exporter": "python",
   "pygments_lexer": "ipython3",
   "version": "3.11.5"
  }
 },
 "nbformat": 4,
 "nbformat_minor": 5
}
